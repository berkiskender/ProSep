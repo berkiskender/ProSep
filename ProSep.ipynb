{
 "cells": [
  {
   "cell_type": "markdown",
   "metadata": {},
   "source": [
    "## Imports"
   ]
  },
  {
   "cell_type": "code",
   "execution_count": null,
   "metadata": {},
   "outputs": [],
   "source": [
    "import numpy as np\n",
    "\n",
    "from skimage.transform import radon, iradon, PiecewiseAffineTransform\n",
    "\n",
    "import torch\n",
    "import torch.nn as nn\n",
    "import torch.optim as optim\n",
    "\n",
    "import utils\n",
    "import train\n",
    "import models\n",
    "\n",
    "import matplotlib.animation as animation\n",
    "from matplotlib.animation import ArtistAnimation\n",
    "import matplotlib.pyplot as plt"
   ]
  },
  {
   "cell_type": "markdown",
   "metadata": {},
   "source": [
    "## Choose hyperparameters"
   ]
  },
  {
   "cell_type": "code",
   "execution_count": null,
   "metadata": {},
   "outputs": [],
   "source": [
    "P = 256  # Total number of time instances: P.\n",
    "domain = 'spatial'  # Domain of ProSep: ['spatial']\n",
    "motion = 'piecewise_affine_transform'  # available motion types: ['piecewise_affine_transform']\n",
    "iradon_filter = 'ramp'  # available FBP filters: ['ramp', 'shepp-logan', 'cosine', 'hamming', 'hann']\n",
    "obj_type = 'walnut'  # available types: ['walnut']\n",
    "num_instances = P  # Total number of projections per time for the full spatio-temporal projection data\n",
    "spatial_dim = 128  # Spatial dimension d of the reconstructed image: d x d, and projection: d\n",
    "training_mode = 'single_view'  # use single view or full projection data per time frame: t\n",
    "pi_symm = True\n",
    "\n",
    "if pi_symm:\n",
    "    ang_range = np.pi  # decide the range of view angles, possible selections: [np.pi, 2*np.pi]\n",
    "else:\n",
    "    ang_range = 2 * np.pi\n",
    "\n",
    "Theta_type = 'harmonic'  # ['learned', 'harmonic']"
   ]
  },
  {
   "cell_type": "markdown",
   "metadata": {},
   "source": [
    "## Select view scheme (uniform, random, bit-reversal)"
   ]
  },
  {
   "cell_type": "code",
   "execution_count": null,
   "metadata": {},
   "outputs": [],
   "source": [
    "t = np.linspace(0, 1, P)  # P time instances sampled linearly between 0-1.\n",
    "\n",
    "theta_linear, theta_random, theta_bit_reversal, theta_golden_angle = utils.generate_theta(\n",
    "    P, ang_range=ang_range)\n",
    "\n",
    "if training_mode == 'single_view':\n",
    "    theta_exp = theta_bit_reversal.copy()"
   ]
  },
  {
   "cell_type": "markdown",
   "metadata": {},
   "source": [
    "## Load the time-varying phantom & estimate $beta_{n,k}$, $b_n$ and $g$ & reconstruct directly from projections"
   ]
  },
  {
   "cell_type": "code",
   "execution_count": null,
   "metadata": {},
   "outputs": [],
   "source": [
    "# Generic loader for obj types: walnut, hydro, hydro_all_times\n",
    "# f = np.load('data/f_%s_%s_spatial_dim_%d_P_%d.npy' %\n",
    "#             (obj_type, motion, spatial_dim, P))\n",
    "\n",
    "f = np.load('/home/berk/Desktop/spatio_temporal/2D_time_variant_tomography/IVMSP_code_tv_reg/data/f_%s_%s_spatial_dim_%d_P_%d.npy' %\n",
    "            (obj_type, motion, spatial_dim, P))"
   ]
  },
  {
   "cell_type": "markdown",
   "metadata": {},
   "source": [
    "## Display $f$"
   ]
  },
  {
   "cell_type": "code",
   "execution_count": null,
   "metadata": {},
   "outputs": [],
   "source": [
    "utils.display_f(f, f[:,:,0], rate=P//8, P=P)"
   ]
  },
  {
   "cell_type": "markdown",
   "metadata": {},
   "source": [
    "## Generate projections"
   ]
  },
  {
   "cell_type": "code",
   "execution_count": null,
   "metadata": {},
   "outputs": [],
   "source": [
    "if training_mode == 'single_view':\n",
    "    g = utils.obtain_projections(f, theta_exp, P)"
   ]
  },
  {
   "cell_type": "markdown",
   "metadata": {},
   "source": [
    "## Construct $\\pi$-symmetric/non-symmetric $g$"
   ]
  },
  {
   "cell_type": "code",
   "execution_count": null,
   "metadata": {},
   "outputs": [],
   "source": [
    "if ang_range == np.pi:\n",
    "    g_symm = np.zeros([g.shape[0], 2 * g.shape[1]])\n",
    "    g_symm[:, :g.shape[1]] = g\n",
    "    g_symm[:, g.shape[1]:] = np.flip(g, axis=0)\n",
    "else:\n",
    "    g_symm = g"
   ]
  },
  {
   "cell_type": "markdown",
   "metadata": {},
   "source": [
    "## Obtain $f_{pol}(s, \\theta_t, t)$ for specific $t$"
   ]
  },
  {
   "cell_type": "code",
   "execution_count": null,
   "metadata": {},
   "outputs": [],
   "source": [
    "f_pol_s = np.zeros([spatial_dim, P, num_instances])\n",
    "f_true_recon = np.zeros(f.shape)\n",
    "for instance in range(num_instances):\n",
    "    f_pol_s[:, :, instance] = radon(f[:, :, instance * P // num_instances], theta=360 * theta_exp / (2 * np.pi))\n",
    "    f_true_recon[:, :, instance] = iradon(f_pol_s[:, :, instance * P // num_instances],\n",
    "                                          theta=360 * theta_exp / (2 * np.pi))"
   ]
  },
  {
   "cell_type": "markdown",
   "metadata": {},
   "source": [
    "## Obtain direct FBP reconstruction from undersampled temporal measurements $g(., \\theta_t, t)$"
   ]
  },
  {
   "cell_type": "code",
   "execution_count": null,
   "metadata": {},
   "outputs": [],
   "source": [
    "f_direct_rec = iradon(g, theta=360 * theta_exp / (2 * np.pi))"
   ]
  },
  {
   "cell_type": "markdown",
   "metadata": {},
   "source": [
    "## $Z$, $\\eta$ trained together"
   ]
  },
  {
   "cell_type": "code",
   "execution_count": null,
   "metadata": {
    "scrolled": true
   },
   "outputs": [],
   "source": [
    "Ksweep = [5]\n",
    "Nsweep = [30]\n",
    "L_out_sweep = [6]\n",
    "\n",
    "L_in = P // 256\n",
    "num_epoch = 10\n",
    "interp_mode = 'linear'\n",
    "sgd_mode = 'gd'  # ['gd']\n",
    "learning_mode = 'only_temp_rep_learn_linear'\n",
    "# ['only_temp_rep_learn_linear', 'only_temp_rep_cubic_spline']\n",
    "loss_type = 'MSE'\n",
    "\n",
    "loss_min_config = []\n",
    "for N in Nsweep:\n",
    "    for K in Ksweep:\n",
    "        print('K', K)\n",
    "        for L_out in L_out_sweep:\n",
    "            if loss_type == 'MSE':\n",
    "                criterion_g = nn.MSELoss()\n",
    "            elif loss_type == 'l1':\n",
    "                criterion_g = nn.L1Loss()\n",
    "            criterion_psi, criterion_f, criterion_Theta = nn.MSELoss(), nn.MSELoss(), nn.MSELoss()\n",
    "            model = models.SeriesExpansion(P, N, K, num_instances, L_out, interp_mode, learning_mode,\n",
    "                                                 theta_exp, domain=domain, pi_symm=pi_symm,\n",
    "                                                 Theta_type=Theta_type).cuda()\n",
    "            if learning_mode in ['only_temp_rep_learn_linear', 'only_temp_rep_cubic_spline']:\n",
    "                learning_rate = 1e-2\n",
    "                if Theta_type == 'harmonic':\n",
    "                    optimizer_network = None\n",
    "                    optimizer_latent = optim.Adam([model.temporal_fcts], lr=learning_rate)\n",
    "\n",
    "            best_model, loss_epoch, loss_temporal_epoch, loss_g_epoch, loss_f_pol_s_epoch, loss_Theta_epoch, g_gt, theta_gpu, L1_est, psi_mtx_est = train.train_theta_eta_simult(\n",
    "                model, optimizer_latent, criterion_g, criterion_psi, criterion_f, theta_exp,\n",
    "                f_pol_s, g_symm, learning_mode, training_mode, sgd_mode, P, K, L_out, N, num_epoch, spatial_dim,\n",
    "                ortho_weight=1e-10, verbose=True)\n",
    "\n",
    "            loss_min_config.append([min(loss_f_pol_s_epoch), K, N, L_out])\n",
    "            print(min(loss_f_pol_s_epoch), '\\n')"
   ]
  },
  {
   "cell_type": "code",
   "execution_count": null,
   "metadata": {},
   "outputs": [],
   "source": [
    "temporal_fcts_linear = best_model.temporal_fcts.detach()"
   ]
  },
  {
   "cell_type": "code",
   "execution_count": null,
   "metadata": {},
   "outputs": [],
   "source": [
    "min(loss_min_config)"
   ]
  },
  {
   "cell_type": "code",
   "execution_count": null,
   "metadata": {
    "scrolled": true
   },
   "outputs": [],
   "source": [
    "eta_est_list = []\n",
    "b = []\n",
    "g_est_list = []\n",
    "with torch.no_grad():\n",
    "    eta_est, L1_est, g_est, b_w, f_pol_est_w, psi_mtx_est = best_model.eval()(g_gt)\n",
    "    eta_est_list = eta_est\n",
    "    g_est_list = g_est\n",
    "    b = b_w"
   ]
  },
  {
   "cell_type": "markdown",
   "metadata": {},
   "source": [
    "## Perform inference using the model"
   ]
  },
  {
   "cell_type": "code",
   "execution_count": null,
   "metadata": {
    "scrolled": true
   },
   "outputs": [],
   "source": [
    "with torch.no_grad():\n",
    "    eta_est = eta_est_list[0].view(eta_est_list[0].shape[1], spatial_dim)\n",
    "    b_est = b.permute(1, 0, 2)\n",
    "    F_pol_est, hn_est = utils.form_F_pol_temporal_cuda(eta_est, g, N, P, K, L_out, t_gpu_latent,\n",
    "                                                             best_model.temporal_fcts,\n",
    "                                                             num_instances, theta_gpu, interp_mode=learning_mode,\n",
    "                                                             conv_fct=best_model.conv_layer, model=best_model)\n",
    "\n",
    "F_pol_est = F_pol_est.detach().cpu().numpy()\n",
    "f_est_FBP = np.zeros([F_pol_est.shape[0], F_pol_est.shape[0], F_pol_est.shape[2]], dtype=complex)\n",
    "for j in range(F_pol_est.shape[2]):\n",
    "    f_est_FBP[:, :, j] = iradon(F_pol_est[:, :, j], theta=360 * theta_exp / (2 * np.pi))"
   ]
  },
  {
   "cell_type": "code",
   "execution_count": null,
   "metadata": {},
   "outputs": [],
   "source": [
    "rate = P // 8\n",
    "psnr_gt, psnr_recon = utils.plot_FBP_results(f, f_true_recon, np.real(f_est_FBP)[:, :, 0], np.real(f_est_FBP), P,\n",
    "                                                   P, rate,\n",
    "                                                   'theta_bit_reversal_learned_L_out%d_P%d_res_%d_mode_%s_sgd_mode_%s' % (\n",
    "                                                   L_out, P, spatial_dim, learning_mode, sgd_mode), val_cbar='no_max')"
   ]
  },
  {
   "cell_type": "markdown",
   "metadata": {},
   "source": [
    "## Video animations of the spatio-temporal reconstructions"
   ]
  },
  {
   "cell_type": "code",
   "execution_count": null,
   "metadata": {},
   "outputs": [],
   "source": [
    "writer = animation.writers['ffmpeg']\n",
    "writer = writer(fps=15, metadata=dict(artist='me'), bitrate=1800)\n",
    "fig, axs = plt.subplots(2, 2, tight_layout=True, figsize=(5, 3.75))\n",
    "ims = []\n",
    "val_cbar = 'no_max'\n",
    "for p in range(f.shape[2]):\n",
    "    max_val_cbar = f.max() if val_cbar == 'max' else f[:, :, p].max()\n",
    "    axs[0, 0].set_title('f')\n",
    "    im0 = axs[0, 0].imshow(f[:, :, p], cmap='gray')\n",
    "    im0.set_clim(0, max_val_cbar)\n",
    "    axs[0, 1].set_title('f_est')\n",
    "    im1 = axs[0, 1].imshow(np.real(f_est_FBP)[:, :, p], cmap='gray')\n",
    "    im1.set_clim(0, max_val_cbar)\n",
    "    axs[1, 0].set_title('f_true_recon')\n",
    "    im2 = axs[1, 0].imshow(np.real(f_true_recon)[:, :, p], cmap='gray')\n",
    "    im2.set_clim(0, max_val_cbar)\n",
    "    axs[1, 1].set_title('f_est - f_true_recon')\n",
    "    im3 = axs[1, 1].imshow(np.abs(np.real(f_est_FBP)[:, :, p] - f_true_recon[:, :, p]), cmap='gray')\n",
    "    im3.set_clim(0, max_val_cbar / 4)\n",
    "    ims.append([im0, im1, im2, im3])\n",
    "ani = ArtistAnimation(fig, ims, interval=70, blit=False, repeat=True)"
   ]
  },
  {
   "cell_type": "code",
   "execution_count": null,
   "metadata": {},
   "outputs": [],
   "source": []
  },
  {
   "cell_type": "code",
   "execution_count": null,
   "metadata": {},
   "outputs": [],
   "source": []
  }
 ],
 "metadata": {
  "kernelspec": {
   "display_name": "tomosipo",
   "language": "python",
   "name": "tomosipo"
  },
  "language_info": {
   "codemirror_mode": {
    "name": "ipython",
    "version": 3
   },
   "file_extension": ".py",
   "mimetype": "text/x-python",
   "name": "python",
   "nbconvert_exporter": "python",
   "pygments_lexer": "ipython3",
   "version": "3.10.6"
  },
  "varInspector": {
   "cols": {
    "lenName": 16,
    "lenType": 16,
    "lenVar": 40
   },
   "kernels_config": {
    "python": {
     "delete_cmd_postfix": "",
     "delete_cmd_prefix": "del ",
     "library": "var_list.py",
     "varRefreshCmd": "print(var_dic_list())"
    },
    "r": {
     "delete_cmd_postfix": ") ",
     "delete_cmd_prefix": "rm(",
     "library": "var_list.r",
     "varRefreshCmd": "cat(var_dic_list()) "
    }
   },
   "types_to_exclude": [
    "module",
    "function",
    "builtin_function_or_method",
    "instance",
    "_Feature"
   ],
   "window_display": false
  }
 },
 "nbformat": 4,
 "nbformat_minor": 4
}
